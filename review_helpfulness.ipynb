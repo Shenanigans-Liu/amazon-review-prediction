{
 "cells": [
  {
   "cell_type": "code",
   "execution_count": 1,
   "metadata": {
    "collapsed": true
   },
   "outputs": [],
   "source": [
    "import gzip\n",
    "import numpy\n",
    "import scipy.optimize\n",
    "import matplotlib.pyplot as plt\n",
    "from collections import defaultdict\n",
    "\n",
    "def readGz(f):\n",
    "  for l in gzip.open(f):\n",
    "    yield eval(l)\n",
    "### Rating baseline: compute averages for each user, or return the global average if we've never seen the user before\n",
    "allRatings = []\n",
    "userRatings = defaultdict(list)\n",
    "data = list(readGz(\"Assignment1/HW3/assignment1/train.json.gz\"))"
   ]
  },
  {
   "cell_type": "code",
   "execution_count": 2,
   "metadata": {},
   "outputs": [],
   "source": [
    "### Gradient descent ###\n",
    "\n",
    "# Objective\n",
    "def f(theta, X, y, lam):\n",
    "  theta = numpy.matrix(theta).T\n",
    "  X = numpy.matrix(X)\n",
    "  y = numpy.matrix(y).T\n",
    "  diff = X*theta - y\n",
    "  diffSq = diff.T*diff\n",
    "  diffSqReg = diffSq / len(X) + lam*(theta.T*theta)\n",
    "  #print \"offset =\", diffSqReg.flatten().tolist()\n",
    "  return diffSqReg.flatten().tolist()[0]\n",
    "\n",
    "# Derivative\n",
    "def fprime(theta, X, y, lam):\n",
    "  theta = numpy.matrix(theta).T\n",
    "  X = numpy.matrix(X)\n",
    "  y = numpy.matrix(y).T\n",
    "  diff = X*theta - y\n",
    "  res = 2*X.T*diff / len(X) + 2*lam*theta\n",
    "  #print \"gradient =\", numpy.array(res.flatten().tolist()[0])\n",
    "  return numpy.array(res.flatten().tolist()[0])"
   ]
  },
  {
   "cell_type": "code",
   "execution_count": 3,
   "metadata": {},
   "outputs": [],
   "source": [
    "features = []\n",
    "features_word = []\n",
    "features_price = []\n",
    "features_rating = []\n",
    "features_time = []\n",
    "helpful_rate = []\n",
    "user_helpful = {}\n",
    "item_helpful = {}\n",
    "user_outOf = {}\n",
    "item_outOf = {}\n",
    "global_sum = 0\n",
    "global_size = 0\n",
    "\n",
    "###### plot para #####\n",
    "plt_words = []\n",
    "plt_rating = []\n",
    "plt_rate = []\n",
    "plt_price = []\n",
    "plt_time = []\n",
    "######################\n",
    "\n",
    "### training dataset ###\n",
    "# collect number of helpful for a user/item from its previous reviews\n",
    "for l in data:#[:100000]:\n",
    "    if l['helpful']['outOf'] != 0:\n",
    "        user_helpful[l['reviewerID']] = 0\n",
    "        item_helpful[l['itemID']] = 0\n",
    "        user_outOf[l['reviewerID']] = 0\n",
    "        item_outOf[l['itemID']] = 0\n",
    "        \n",
    "for l in data:#[:100000]:\n",
    "    if l['helpful']['outOf'] != 0:\n",
    "        user_helpful[l['reviewerID']] += l['helpful']['nHelpful']\n",
    "        item_helpful[l['itemID']] += l['helpful']['nHelpful']\n",
    "        user_outOf[l['reviewerID']] += l['helpful']['outOf']\n",
    "        item_outOf[l['itemID']] += l['helpful']['outOf']\n",
    "        global_sum += l['helpful']['nHelpful']\n",
    "        global_size += l['helpful']['outOf']\n",
    "        \n",
    "        #### plot ####\n",
    "        plt_rate.append(l['helpful']['outOf'])\n",
    "        plt_words.append(len(l['reviewText'].split()))\n",
    "        plt_rating.append(l['rating'])\n",
    "        plt_time.append(l['unixReviewTime'])\n",
    "        if 'price' in l:\n",
    "            plt_price.append(l['price'])\n",
    "        else:\n",
    "            plt_price.append(0)\n",
    "        ##############\n",
    "        \n",
    "global_avg = global_sum * 1.0 / global_size\n",
    "    \n",
    "for l in data:#[:100000]:\n",
    "    words_num = len(l['reviewText'].split()) #split the words\n",
    "    if l['helpful']['outOf'] >= 0 and words_num >= 0:\n",
    "        helpful_rate.append(l['helpful']['nHelpful'])# * 1.0 / l['helpful']['outOf'])\n",
    "        if 'price' in l:\n",
    "            features_word.append([1, l['helpful']['outOf'],  words_num, l['rating']])\n",
    "        else:\n",
    "            features_word.append([1, l['helpful']['outOf'],  words_num, l['rating']])\n",
    "\n",
    "theta_word,residuals,rank,s = numpy.linalg.lstsq(features_word, helpful_rate)\n",
    "\n",
    "helpful_rate = []\n",
    "for l in data:#[:100000]:\n",
    "    if l['helpful']['outOf'] >= 0 and l['rating'] >= 3:\n",
    "        helpful_rate.append(l['helpful']['nHelpful'])# * 1.0 / l['helpful']['outOf'])\n",
    "        if 'price' in l:\n",
    "            features_rating.append([1, l['helpful']['outOf'], l['rating'], l['price']])\n",
    "        else:\n",
    "            features_rating.append([1, l['helpful']['outOf'], l['rating'], 0])\n",
    "\n",
    "theta_rating,residuals,rank,s = numpy.linalg.lstsq(features_rating, helpful_rate)\n",
    "\n",
    "helpful_rate = []\n",
    "for l in data:#[:100000]:\n",
    "    if l['helpful']['outOf'] != 0 and 'price' in l and l['price'] >= 100:\n",
    "        helpful_rate.append(l['helpful']['nHelpful'])# * 1.0 / l['helpful']['outOf'])\n",
    "        features_price.append([1, l['helpful']['outOf'], l['rating'], l['price']])\n",
    "\n",
    "theta_price,residuals,rank,s = numpy.linalg.lstsq(features_price, helpful_rate)\n",
    "\n",
    "helpful_rate = []\n",
    "for l in data:#[:100000]:\n",
    "    if l['helpful']['outOf'] >= 0 and l['unixReviewTime'] <= 1.35e9:\n",
    "        helpful_rate.append(l['helpful']['nHelpful'])# * 1.0 / l['helpful']['outOf'])\n",
    "        features_time.append([1, l['helpful']['outOf'], l['rating'], l['unixReviewTime']])\n",
    "\n",
    "theta_time,residuals,rank,s = numpy.linalg.lstsq(features_time, helpful_rate)\n",
    "\n",
    "helpful_rate = []\n",
    "for l in data:#[:100000]:\n",
    "    if l['helpful']['outOf'] != 0:\n",
    "        helpful_rate.append(l['helpful']['nHelpful'])# * 1.0 / l['helpful']['outOf'])\n",
    "        words_num = len(l['summary'].split()) #split the words\n",
    "        if 'price' in l:\n",
    "            features.append([1, l['helpful']['outOf'], l['rating'], l['price']])\n",
    "        else:\n",
    "            features.append([1, l['helpful']['outOf'], l['rating'], 0])\n",
    "\n",
    "theta,residuals,rank,s = numpy.linalg.lstsq(features, helpful_rate)\n",
    "#theta,l,info = scipy.optimize.fmin_l_bfgs_b(f, [0,0,0,0], fprime, args = (features, helpful_rate, 0.1))"
   ]
  },
  {
   "cell_type": "code",
   "execution_count": 194,
   "metadata": {
    "collapsed": false
   },
   "outputs": [
    {
     "data": {
      "text/plain": [
       "{'categories': [['Clothing, Shoes & Jewelry',\n   'Shoes & Accessories: International Shipping Available'],\n  ['Clothing, Shoes & Jewelry', 'C', 'crocs'],\n  ['Clothing, Shoes & Jewelry', 'Comfort Shoes'],\n  ['Clothing, Shoes & Jewelry', 'Men', 'Shoes', 'Mules & Clogs'],\n  ['Clothing, Shoes & Jewelry', 'Men', 'Shoes', 'Athletic']],\n 'categoryID': 1,\n 'helpful': {'nHelpful': 0, 'outOf': 0},\n 'itemID': 'I065774479',\n 'rating': 5.0,\n 'reviewHash': 'R230457642',\n 'reviewText': \"I bought these a year ago and wore them just about every day in the summer!  They are so comfy, easy to slip on and off, and you don't have to worry about keeping them dry!  They wash up nice too, highly recommended!\",\n 'reviewTime': '03 7, 2011',\n 'reviewerID': 'U310967580',\n 'summary': 'Ohhh Yeahhh!',\n 'unixReviewTime': 1299456000}"
      ]
     },
     "execution_count": 194,
     "metadata": {},
     "output_type": "execute_result"
    }
   ],
   "source": [
    "l"
   ]
  },
  {
   "cell_type": "code",
   "execution_count": 182,
   "metadata": {},
   "outputs": [
    {
     "data": {
      "image/png": "[encoded data removed]",
      "text/plain": [
       "<matplotlib.figure.Figure at 0x7f0136debc90>"
      ]
     },
     "metadata": {},
     "output_type": "display_data"
    }
   ],
   "source": [
    "plt.scatter(plt_rating,plt_rate)\n",
    "plt.title('precision vs recall')\n",
    "plt.show()"
   ]
  },
  {
   "cell_type": "code",
   "execution_count": 258,
   "metadata": {},
   "outputs": [
    {
     "name": "stdout",
     "output_type": "stream",
     "text": [
      "MAE =  0.171180325433\n"
     ]
    }
   ],
   "source": [
    "### Validating dataset ###\n",
    "helpful_valid = []\n",
    "helpful_rate = []\n",
    "for l in data[100000:200000]:\n",
    "    if l['helpful']['outOf'] != 0:\n",
    "        helpful_rate.append(l['helpful']['nHelpful'])# * 1.0 / l['helpful']['outOf'])\n",
    "        words_num = len(l['reviewText'].split()) #split the words\n",
    "            \n",
    "        if l['reviewerID'] in user_helpful:\n",
    "            a = user_helpful[l['reviewerID']]\n",
    "            b = user_outOf[l['reviewerID']]\n",
    "        else:\n",
    "            a = 0\n",
    "            b = 0\n",
    "        if l['itemID'] in item_helpful:\n",
    "            c = item_helpful[l['itemID']]\n",
    "            d = item_outOf[l['itemID']]\n",
    "        else:\n",
    "            c = 0\n",
    "            d = 0\n",
    "        if b + d >= 40 and l['helpful']['outOf'] >= 40:\n",
    "            percentage = (a + c) * 1.0 / (b + d)\n",
    "            bias = (percentage - global_avg) * l['helpful']['outOf'] * 0.6\n",
    "        else:\n",
    "            bias = 0\n",
    "            \n",
    "        if words_num >= 200:\n",
    "            feat_row = [1, l['helpful']['outOf'], words_num, l['rating']]\n",
    "            feat = [theta_word[i]*feat_row[i] for i in range(0,len(feat_row))]\n",
    "        #if l['rating'] >= 3.0:\n",
    "        #    if 'price' in l:\n",
    "        #        feat_row = [1, l['helpful']['outOf'], l['rating'], l['price']]\n",
    "        #    else:\n",
    "        #        feat_row = [1, l['helpful']['outOf'], l['rating'], 0]\n",
    "        #    feat = [theta_rating[i]*feat_row[i] for i in range(0,len(feat_row))]\n",
    "        elif 'price' in l and l['price'] >= 100:\n",
    "            feat_row = [1, l['helpful']['outOf'], l['rating'], l['price']]\n",
    "            feat = [theta_price[i]*feat_row[i] for i in range(0,len(feat_row))]\n",
    "        elif l['helpful']['outOf'] >= 0 and l['unixReviewTime'] <= 1.35e9:\n",
    "            feat_row = [1, l['helpful']['outOf'], l['rating'], l['unixReviewTime']]\n",
    "            feat = [theta_time[i]*feat_row[i] for i in range(0,len(feat_row))]\n",
    "        else:\n",
    "            if 'price' in l:\n",
    "                feat_row = [1, l['helpful']['outOf'], l['rating'], l['price']]\n",
    "            else:\n",
    "                feat_row = [1, l['helpful']['outOf'], l['rating'], 0]\n",
    "            feat = [theta[i]*feat_row[i] for i in range(0,len(feat_row))]\n",
    "            \n",
    "        if l['helpful']['outOf'] == 1:\n",
    "            helpful_valid.append(1)\n",
    "        else:\n",
    "            helpful_valid.append(sum(feat) + bias)\n",
    "\n",
    "MAE = sum(abs(helpful_rate[i] - helpful_valid[i]) for i in range(0,len(helpful_rate))) * 1.0 / 100000#len(helpful_rate)\n",
    "#print 'theta0 = ', theta[0], '  theta1 = ', theta[1], ' theta2 = ', theta[2], '  theta3 = ', theta[3], ' theta4 = ', theta[4]\n",
    "print 'MAE = ', MAE"
   ]
  },
  {
   "cell_type": "code",
   "execution_count": 8,
   "metadata": {},
   "outputs": [],
   "source": [
    "### Testing dataset and generating files ###\n",
    "userItemHelpful = {}\n",
    "helpfulBias = {}\n",
    "\n",
    "for l in readGz(\"Assignment1/HW3/assignment1/test_Helpful.json.gz\"):\n",
    "    user, item = l['reviewerID'],l['itemID']\n",
    "    if l['helpful']['outOf'] != 0:\n",
    "        words_num = len(l['reviewText'].split()) #split the words\n",
    "        if l['reviewerID'] in user_helpful:\n",
    "            a = user_helpful[l['reviewerID']]\n",
    "            b = user_outOf[l['reviewerID']]\n",
    "        else:\n",
    "            a = 0\n",
    "            b = 0\n",
    "        if l['itemID'] in item_helpful:\n",
    "            c = item_helpful[l['itemID']]\n",
    "            d = item_outOf[l['itemID']]\n",
    "        else:\n",
    "            c = 0\n",
    "            d = 0\n",
    "        if b + d >= 80 and l['helpful']['outOf'] >= 40:\n",
    "            percentage = (a + c) * 1.0 / (b + d)\n",
    "            #bias = (percentage - global_avg) * l['helpful']['outOf'] * 0.3\n",
    "            bias = (percentage - global_avg) * l['helpful']['outOf'] * -0.4\n",
    "        elif b + d <= 20 and b + d > 0:\n",
    "            percentage = (a + c) * 1.0 / (b + d)\n",
    "            bias = (percentage - global_avg) * l['helpful']['outOf'] * 0.3\n",
    "        else:\n",
    "            bias = 0\n",
    "            \n",
    "        if 'price' in l and l['price'] >= 100:\n",
    "            if 'price' in l:\n",
    "               feat_row = [1, l['helpful']['outOf'], l['rating'], l['price']]\n",
    "            feat = [theta_price[i]*feat_row[i] for i in range(0,len(feat_row))]\n",
    "        elif l['helpful']['outOf'] >= 5 and l['unixReviewTime'] <= 1.35e9:\n",
    "            feat_row = [1, l['helpful']['outOf'], l['rating'], l['unixReviewTime']]\n",
    "            feat = [theta_time[i]*feat_row[i] for i in range(0,len(feat_row))]\n",
    "        else:\n",
    "            if 'price' in l:\n",
    "                feat_row = [1, l['helpful']['outOf'], l['rating'], l['price']]\n",
    "            else:\n",
    "                feat_row = [1, l['helpful']['outOf'], l['rating'], 0]\n",
    "            feat = [theta[i]*feat_row[i] for i in range(0,len(feat_row))]\n",
    "            \n",
    "        userItemHelpful[user+item] = sum(feat)\n",
    "        helpfulBias[user+item] = bias\n",
    "    else:\n",
    "        userItemHelpful[user+item] = 0\n",
    "        helpfulBias[user+item] = 0\n",
    "    #if l['reviewerID'] in user_helpful:\n",
    "    #    testData.append([l['helpful']['outOf'], user_helpful[l['reviewerID']], user_outOf[l['reviewerID']]])\n",
    "\n",
    "predictions = open(\"Assignment1/HW3/assignment1/predictions_Helpful.txt\", 'w')\n",
    "for l in open(\"Assignment1/HW3/assignment1/pairs_Helpful.txt\"):\n",
    "    if l.startswith(\"userID\"):\n",
    "        #header\n",
    "        predictions.write(l)\n",
    "        continue\n",
    "    u, i, outOf = l.strip().split('-')\n",
    "    outOf = int(outOf)\n",
    "    if outOf == 1:\n",
    "        predictions.write(u + '-' + i + '-' + str(outOf) + ',' + str(1) + '\\n')\n",
    "    elif round(userItemHelpful[u+i] + helpfulBias[u+i]) > outOf:\n",
    "        predictions.write(u + '-' + i + '-' + str(outOf) + ',' + str(outOf) + '\\n')\n",
    "    elif round(userItemHelpful[u+i] + helpfulBias[u+i]) < 0:\n",
    "        predictions.write(u + '-' + i + '-' + str(outOf) + ',' + str(round(userItemHelpful[u+i])) + '\\n')\n",
    "    else:\n",
    "        predictions.write(u + '-' + i + '-' + str(outOf) + ',' + str(int(round(userItemHelpful[u+i] + helpfulBias[u+i]))) + '\\n')\n",
    "            \n",
    "predictions.close()"
   ]
  },
  {
   "cell_type": "code",
   "execution_count": 58,
   "metadata": {},
   "outputs": [
    {
     "data": {
      "text/plain": [
       "-17.95057652131735"
      ]
     },
     "execution_count": 58,
     "metadata": {},
     "output_type": "execute_result"
    }
   ],
   "source": [
    "user = 'U306590119'\n",
    "item = 'I726237697'\n",
    "userItemHelpful[user+item]\n",
    "helpfulBias[user+item]"
   ]
  },
  {
   "cell_type": "code",
   "execution_count": null,
   "metadata": {},
   "outputs": [],
   "source": [
    ""
   ]
  }
 ],
 "metadata": {
  "kernelspec": {
   "display_name": "Python 2",
   "language": "python",
   "name": "python2"
  },
  "language_info": {
   "codemirror_mode": {
    "name": "ipython",
    "version": 2.0
   },
   "file_extension": ".py",
   "mimetype": "text/x-python",
   "name": "python",
   "nbconvert_exporter": "python",
   "pygments_lexer": "ipython2",
   "version": "2.7.6"
  }
 },
 "nbformat": 4,
 "nbformat_minor": 0
}