{
 "cells": [
  {
   "cell_type": "code",
   "execution_count": 1,
   "metadata": {
    "collapsed": true
   },
   "outputs": [],
   "source": [
    "import gzip\n",
    "import numpy\n",
    "import random\n",
    "from collections import defaultdict\n",
    "\n",
    "def readGz(f):\n",
    "  for l in gzip.open(f):\n",
    "    yield eval(l)\n",
    "### Rating baseline: compute averages for each user, or return the global average if we've never seen the user before\n",
    "allRatings = []\n",
    "userRatings = defaultdict(list)\n",
    "data = list(readGz(\"Assignment1/HW3/assignment1/train.json.gz\"))"
   ]
  },
  {
   "cell_type": "code",
   "execution_count": 17,
   "metadata": {},
   "outputs": [],
   "source": [
    "# initialzation\n",
    "users_perItem = defaultdict(list)\n",
    "items_perUser = defaultdict(list)\n",
    "userItem_rating = {} # rating for a specific user with respect to a specific item\n",
    "user_bias = {}\n",
    "item_bias = {}\n",
    "user_gamma = defaultdict(list)\n",
    "item_gamma = defaultdict(list)\n",
    "alpha = 0\n",
    "lam = 6\n",
    "gamma_size = 2 #number of columns ina gamma\n",
    "\n",
    "prev_MSE = 20 #randomly initializing previous MSE\n",
    "MSE = 10 #randomly intitializing current MSE\n",
    "\n",
    "# store the parameters that result in smallest MSE\n",
    "user_bias_final = {}\n",
    "item_bias_final = {}\n",
    "user_gamma_final = defaultdict(list)\n",
    "item_gamma_final = defaultdict(list)\n",
    "alpha_final = 0\n",
    "\n",
    "for l in data:#[:100000]:\n",
    "    user,item = l['reviewerID'],l['itemID']\n",
    "    users_perItem[item].append(l['reviewerID'])\n",
    "    items_perUser[user].append(l['itemID'])\n",
    "    userItem_rating[user+item] = l['rating']\n",
    "    user_bias[user] = 0\n",
    "    item_bias[item] = 0\n",
    "for u in user_bias: # initialize gamma_u to be n by k\n",
    "    for x in range(0,gamma_size):\n",
    "        user_gamma[u].append(random.random())\n",
    "for i in item_bias: # initialize gamma_i to be m by k\n",
    "    for x in range(0,gamma_size):\n",
    "        item_gamma[i].append(random.random())"
   ]
  },
  {
   "cell_type": "code",
   "execution_count": 10,
   "metadata": {
    "collapsed": false
   },
   "outputs": [],
   "source": [
    "while abs(MSE - prev_MSE) > 0.01:\n",
    "    prev_MSE = MSE\n",
    "    ## update user_gamma (user preference)\n",
    "    for u in user_bias:\n",
    "        for k in range(0,gamma_size):\n",
    "            temp = []\n",
    "            for i in items_perUser[u]:\n",
    "                inner_product = sum([item_gamma[i][n]*user_gamma[u][n]*(n!=k) for n in range(0,gamma_size)])\n",
    "                temp.append(item_gamma[i][k]*(userItem_rating[u+i] - alpha - user_bias[u] - item_bias[i] - inner_product))\n",
    "            user_gamma[u][k] = sum(temp) / (sum([item_gamma[i][k]**2 for i in items_perUser[u]]) + lam)\n",
    "    \n",
    "                \n",
    "    ## update item_gamma (item properties)\n",
    "    for i in item_bias:\n",
    "        for k in range(0,gamma_size):\n",
    "            temp = []\n",
    "            for u in users_perItem[i]:\n",
    "                inner_product = sum([item_gamma[i][n]*user_gamma[u][n]*(n!=k) for n in range(0,gamma_size)])\n",
    "                temp.append(user_gamma[u][k]*(userItem_rating[u+i] - alpha - user_bias[u] - item_bias[i] - inner_product))\n",
    "            item_gamma[i][k] = sum(temp) / (sum([user_gamma[u][k]**2 for u in users_perItem[i]]) + lam)\n",
    "            \n",
    "    ## update alpha\n",
    "    temp = []\n",
    "    for l in data:#[:100000]:\n",
    "        gamma_inner = sum([item_gamma[l['itemID']][n]*user_gamma[l['reviewerID']][n] for n in range(0,gamma_size)])\n",
    "        temp.append(l['rating'] - (user_bias[l['reviewerID']] + item_bias[l['itemID']] + gamma_inner))\n",
    "    alpha = sum(temp) / 200000#100000\n",
    "    \n",
    "    ## update user bias\n",
    "    for u in user_bias:\n",
    "        temp = []\n",
    "        for i in items_perUser[u]:\n",
    "            gamma_inner = sum([item_gamma[i][n]*user_gamma[u][n] for n in range(0,gamma_size)])\n",
    "            temp.append(userItem_rating[u+i] - (alpha + item_bias[i] + gamma_inner))\n",
    "        user_bias[u] = sum(temp) / (lam + len(items_perUser[u]))\n",
    "        \n",
    "    ## update item bias\n",
    "    for i in item_bias:\n",
    "        temp = []\n",
    "        for u in users_perItem[i]:\n",
    "            gamma_inner = sum([item_gamma[i][n]*user_gamma[u][n] for n in range(0,gamma_size)])\n",
    "            temp.append(userItem_rating[u+i] - (alpha + user_bias[u] + gamma_inner))\n",
    "        item_bias[i] = sum(temp) / (lam + len(users_perItem[i]))\n",
    "        \n",
    "            \n",
    "    ## compute MSE\n",
    "    diff = []\n",
    "    for l in data:#[:100000]:\n",
    "        gamma_inner = sum([item_gamma[l['itemID']][n]*user_gamma[l['reviewerID']][n] for n in range(0,gamma_size)])\n",
    "        diff.append((l['rating'] - (alpha + user_bias[l['reviewerID']] + item_bias[l['itemID']] + gamma_inner))**2)\n",
    "    MSE = sum(diff) / len(diff)\n",
    "    \n",
    "    print 'previous MSE for training = ', prev_MSE\n",
    "    print 'current MSE for training = ', MSE\n",
    "    \n",
    "    \n",
    "    if MSE < prev_MSE:\n",
    "        ## update final results\n",
    "        for u in user_bias:\n",
    "            user_gamma_final[u] = [user_gamma[u][k] for k in range(0, gamma_size)]\n",
    "            user_bias_final[u] = user_bias[u]\n",
    "        for i in item_bias:\n",
    "            item_gamma_final[i] = [item_gamma[i][k] for k in range(0, gamma_size)]\n",
    "            item_bias_final[i] = item_bias[i]\n",
    "        alpha_final = alpha"
   ]
  },
  {
   "cell_type": "code",
   "execution_count": 8,
   "metadata": {},
   "outputs": [
    {
     "data": {
      "text/plain": [
       "0.8175521601885533"
      ]
     },
     "execution_count": 8,
     "metadata": {},
     "output_type": "execute_result"
    }
   ],
   "source": [
    "MSE\n",
    "prev_MSE"
   ]
  },
  {
   "cell_type": "code",
   "execution_count": 11,
   "metadata": {},
   "outputs": [
    {
     "name": "stdout",
     "output_type": "stream",
     "text": [
      "MSE =  0.705643810621 for validating set (lambda = 1)\n"
     ]
    }
   ],
   "source": [
    "## Validation MSE\n",
    "diff = []\n",
    "for l in data[100000:200000]:\n",
    "    if l['reviewerID'] not in user_bias_final and l['itemID'] not in item_bias_final:\n",
    "        diff.append((l['rating'] - alpha_final)**2)\n",
    "    elif l['reviewerID'] not in user_bias:\n",
    "        diff.append((l['rating'] - (alpha_final + item_bias_final[l['itemID']]))**2)\n",
    "    elif l['itemID'] not in item_bias:\n",
    "        diff.append((l['rating'] - (alpha_final + user_bias_final[l['reviewerID']]))**2)\n",
    "    else:\n",
    "        gamma_inner = sum([item_gamma_final[l['itemID']][n]*user_gamma_final[l['reviewerID']][n] for n in range(0,gamma_size)])\n",
    "        diff.append((l['rating'] - (alpha_final + user_bias_final[l['reviewerID']] + item_bias_final[l['itemID']] + gamma_inner))**2)\n",
    "MSE = sum(diff) / len(diff)\n",
    "\n",
    "print 'MSE = ', MSE,'for validating set (lambda = 1)'"
   ]
  },
  {
   "cell_type": "code",
   "execution_count": 20,
   "metadata": {},
   "outputs": [],
   "source": [
    "prev_MSE = 10 #randomly initializing previous MSE\n",
    "MSE = 9 #randomly intitializing current MSE\n",
    "while MSE < prev_MSE:#abs(prev_MSE - MSE) > 0.00001:\n",
    "    prev_MSE = MSE\n",
    "    ## update alpha\n",
    "    alpha = [l['rating'] - (user_bias[l['reviewerID']] + item_bias[l['itemID']]) for l in data]#[:100000]]\n",
    "    alpha = sum(alpha) / 200000#100000\n",
    "    \n",
    "    ## update user bias\n",
    "    for u in user_bias:\n",
    "        temp = sum([userItem_rating[u+i] - (alpha + item_bias[i]) for i in items_perUser[u]])\n",
    "        user_bias[u] = temp / (lam + len(items_perUser[u]))\n",
    "    \n",
    "    ## update item bias\n",
    "    for i in item_bias:\n",
    "        temp = sum([userItem_rating[u+i] - (alpha + user_bias[u]) for u in users_perItem[i]])\n",
    "        item_bias[i] = temp / (lam + len(users_perItem[i]))\n",
    "        \n",
    "    ## compute MSE\n",
    "    diff = [(l['rating'] - (alpha + user_bias[l['reviewerID']] + item_bias[l['itemID']]))**2 for l in data]#[:100000]]\n",
    "    MSE = sum(diff) / len(diff)\n",
    "\n",
    "    \n",
    "    if MSE < prev_MSE:\n",
    "        ## update final results\n",
    "        for u in user_bias:\n",
    "            user_bias_final[u] = user_bias[u]\n",
    "        for i in item_bias:\n",
    "            item_bias_final[i] = item_bias[i]\n",
    "        alpha_final = alpha"
   ]
  },
  {
   "cell_type": "code",
   "execution_count": 22,
   "metadata": {},
   "outputs": [
    {
     "name": "stdout",
     "output_type": "stream",
     "text": [
      "previous MSE for training =  9\ncurrent MSE for training =  0.759689242861\n"
     ]
    },
    {
     "name": "stdout",
     "output_type": "stream",
     "text": [
      "previous MSE for training =  0.759689242861\ncurrent MSE for training =  0.747976227951\n"
     ]
    }
   ],
   "source": [
    "prev_MSE = 10 #randomly initializing previous MSE\n",
    "MSE = 9 #randomly intitializing current MSE\n",
    "while abs(prev_MSE - MSE) > 0.1:\n",
    "    prev_MSE = MSE\n",
    "    ## update user_gamma (user preference)\n",
    "    for u in user_bias:\n",
    "        for k in range(0,gamma_size):\n",
    "            temp = []\n",
    "            for i in items_perUser[u]:\n",
    "                inner_product = sum([item_gamma[i][n]*user_gamma[u][n]*(n!=k) for n in range(0,gamma_size)])\n",
    "                temp.append(item_gamma[i][k]*(userItem_rating[u+i] - alpha_final - user_bias_final[u] - item_bias_final[i] - inner_product))\n",
    "            user_gamma[u][k] = sum(temp) / (sum([item_gamma[i][k]**2 for i in items_perUser[u]]) + lam)\n",
    "    ## update item_gamma\n",
    "    for i in item_bias:\n",
    "        for k in range(0,gamma_size):\n",
    "            temp = []\n",
    "            for u in users_perItem[i]:\n",
    "                inner_product = sum([item_gamma[i][n]*user_gamma[u][n]*(n!=k) for n in range(0,gamma_size)])\n",
    "                temp.append(user_gamma[u][k]*(userItem_rating[u+i] - alpha_final - user_bias_final[u] - item_bias_final[i] - inner_product))\n",
    "            item_gamma[i][k] = sum(temp) / (sum([user_gamma[u][k]**2 for u in users_perItem[i]]) + lam)\n",
    "    \n",
    "    ## compute MSE\n",
    "    diff = []\n",
    "    for l in data:#[:100000]:\n",
    "        gamma_inner = sum([item_gamma[l['itemID']][n]*user_gamma[l['reviewerID']][n] for n in range(0,gamma_size)])\n",
    "        diff.append((l['rating'] - (alpha_final + user_bias_final[l['reviewerID']] + item_bias_final[l['itemID']] + gamma_inner))**2)\n",
    "    MSE = sum(diff) / len(diff)\n",
    "    \n",
    "    print 'previous MSE for training = ', prev_MSE\n",
    "    print 'current MSE for training = ', MSE\n",
    "    \n",
    "    if MSE < prev_MSE:\n",
    "        ## update final results\n",
    "        for u in user_bias:\n",
    "            user_gamma_final[u] = [user_gamma[u][k] for k in range(0, gamma_size)]\n",
    "        for i in item_bias:\n",
    "            item_gamma_final[i] = [item_gamma[i][k] for k in range(0, gamma_size)]"
   ]
  },
  {
   "cell_type": "code",
   "execution_count": 162,
   "metadata": {},
   "outputs": [
    {
     "name": "stdout",
     "output_type": "stream",
     "text": [
      "previous MSE for training =  9\ncurrent MSE for training =  2.4471268201\n"
     ]
    },
    {
     "name": "stdout",
     "output_type": "stream",
     "text": [
      "previous MSE for training =  2.4471268201\ncurrent MSE for training =  2.44716278922\n"
     ]
    }
   ],
   "source": [
    "## Validation MSE\n",
    "diff = []\n",
    "for l in data[100000:200000]:\n",
    "    if l['reviewerID'] not in user_bias and l['itemID'] not in item_bias:\n",
    "        diff.append((l['rating'] - alpha)**2)\n",
    "    elif l['reviewerID'] not in user_bias:\n",
    "        diff.append((l['rating'] - (alpha + item_bias[l['itemID']]))**2)\n",
    "    elif l['itemID'] not in item_bias:\n",
    "        diff.append((l['rating'] - (alpha + user_bias[l['reviewerID']]))**2)\n",
    "    else:\n",
    "        diff.append((l['rating'] - (alpha + user_bias[l['reviewerID']] + item_bias[l['itemID']]))**2)\n",
    "MSE = sum(diff) / len(diff)\n",
    "\n",
    "print 'MSE = ', MSE,'for validating set (lambda = 1)'"
   ]
  },
  {
   "cell_type": "code",
   "execution_count": 49,
   "metadata": {},
   "outputs": [],
   "source": [
    "features = []\n",
    "features_user = []\n",
    "features_item = []\n",
    "features_alpha = []\n",
    "ratings = []\n",
    "for l in data:#[:100000]:\n",
    "    base = alpha_final + user_bias_final[l['reviewerID']] + item_bias_final[l['itemID']]\n",
    "    words_num = len(l['reviewText'].split()) #split the words\n",
    "    ratings.append(l['rating'])\n",
    "    if 'price' in l:\n",
    "        features.append([base, words_num, l['price'], l['helpful']['outOf']])\n",
    "    else:\n",
    "        features.append([base, words_num, 0, l['helpful']['outOf']])\n",
    "\n",
    "theta,residuals,rank,s = numpy.linalg.lstsq(features, ratings)\n",
    "\n",
    "ratings = []\n",
    "for l in data:#[:100000]:\n",
    "    base = alpha_final\n",
    "    words_num = len(l['reviewText'].split()) #split the words\n",
    "    ratings.append(l['rating'])\n",
    "    if 'price' in l:\n",
    "        features_alpha.append([base, words_num, l['price'], l['helpful']['outOf']])\n",
    "    else:\n",
    "        features_alpha.append([base, words_num, 0, l['helpful']['outOf']])\n",
    "\n",
    "theta_alpha,residuals,rank,s = numpy.linalg.lstsq(features_alpha, ratings)\n",
    "\n",
    "ratings = []\n",
    "for l in data:#[:100000]:\n",
    "    base = alpha_final + user_bias_final[l['reviewerID']]\n",
    "    words_num = len(l['reviewText'].split()) #split the words\n",
    "    ratings.append(l['rating'])\n",
    "    if 'price' in l:\n",
    "        features_user.append([base, words_num, l['price'], l['helpful']['outOf']])\n",
    "    else:\n",
    "        features_user.append([base, words_num, 0, l['helpful']['outOf']])\n",
    "\n",
    "theta_user,residuals,rank,s = numpy.linalg.lstsq(features_user, ratings)\n",
    "\n",
    "ratings = []\n",
    "for l in data:#[:100000]:\n",
    "    base = alpha_final + item_bias_final[l['itemID']]\n",
    "    words_num = len(l['reviewText'].split()) #split the words\n",
    "    ratings.append(l['rating'])\n",
    "    if 'price' in l:\n",
    "        features_item.append([base, words_num, l['price'], l['helpful']['outOf']])\n",
    "    else:\n",
    "        features_item.append([base, words_num, 0, l['helpful']['outOf']])\n",
    "\n",
    "theta_item,residuals,rank,s = numpy.linalg.lstsq(features_item, ratings)"
   ]
  },
  {
   "cell_type": "code",
   "execution_count": 50,
   "metadata": {},
   "outputs": [
    {
     "data": {
      "text/plain": [
       "array([  1.02311919e+00,  -1.20516499e-03,   4.06168287e-04,\n        -1.80933813e-03])"
      ]
     },
     "execution_count": 50,
     "metadata": {},
     "output_type": "execute_result"
    }
   ],
   "source": [
    "theta"
   ]
  },
  {
   "cell_type": "code",
   "execution_count": 52,
   "metadata": {},
   "outputs": [
    {
     "ename": "TypeError",
     "evalue": "string indices must be integers, not str",
     "traceback": [
      "\u001b[0;31m\u001b[0m",
      "\u001b[0;31mTypeError\u001b[0mTraceback (most recent call last)",
      "\u001b[0;32m<ipython-input-52-eef2e86983bc>\u001b[0m in \u001b[0;36m<module>\u001b[0;34m()\u001b[0m\n\u001b[1;32m     35\u001b[0m             \u001b[0mfeat_row\u001b[0m \u001b[0;34m=\u001b[0m \u001b[0;34m[\u001b[0m\u001b[0mpredicted_rating\u001b[0m\u001b[0;34m,\u001b[0m \u001b[0mwords_num\u001b[0m\u001b[0;34m,\u001b[0m \u001b[0ml\u001b[0m\u001b[0;34m[\u001b[0m\u001b[0;34m'price'\u001b[0m\u001b[0;34m]\u001b[0m\u001b[0;34m,\u001b[0m \u001b[0ml\u001b[0m\u001b[0;34m[\u001b[0m\u001b[0;34m'helpful'\u001b[0m\u001b[0;34m]\u001b[0m\u001b[0;34m[\u001b[0m\u001b[0;34m'outOf'\u001b[0m\u001b[0;34m]\u001b[0m\u001b[0;34m]\u001b[0m\u001b[0;34m\u001b[0m\u001b[0m\n\u001b[1;32m     36\u001b[0m         \u001b[0;32melse\u001b[0m\u001b[0;34m:\u001b[0m\u001b[0;34m\u001b[0m\u001b[0m\n\u001b[0;32m---> 37\u001b[0;31m             \u001b[0mfeat_row\u001b[0m \u001b[0;34m=\u001b[0m \u001b[0;34m[\u001b[0m\u001b[0mpredicted_rating\u001b[0m\u001b[0;34m,\u001b[0m \u001b[0mwords_num\u001b[0m\u001b[0;34m,\u001b[0m \u001b[0;36m0\u001b[0m\u001b[0;34m,\u001b[0m \u001b[0ml\u001b[0m\u001b[0;34m[\u001b[0m\u001b[0;34m'helpful'\u001b[0m\u001b[0;34m]\u001b[0m\u001b[0;34m[\u001b[0m\u001b[0;34m'outOf'\u001b[0m\u001b[0;34m]\u001b[0m\u001b[0;34m]\u001b[0m\u001b[0;34m\u001b[0m\u001b[0m\n\u001b[0m\u001b[1;32m     38\u001b[0m         \u001b[0mpredicted_rating\u001b[0m \u001b[0;34m=\u001b[0m \u001b[0;34m[\u001b[0m\u001b[0mtheta\u001b[0m\u001b[0;34m[\u001b[0m\u001b[0mi\u001b[0m\u001b[0;34m]\u001b[0m\u001b[0;34m*\u001b[0m\u001b[0mfeat_row\u001b[0m\u001b[0;34m[\u001b[0m\u001b[0mi\u001b[0m\u001b[0;34m]\u001b[0m \u001b[0;32mfor\u001b[0m \u001b[0mi\u001b[0m \u001b[0;32min\u001b[0m \u001b[0mrange\u001b[0m\u001b[0;34m(\u001b[0m\u001b[0;36m0\u001b[0m\u001b[0;34m,\u001b[0m\u001b[0mlen\u001b[0m\u001b[0;34m(\u001b[0m\u001b[0mfeat_row\u001b[0m\u001b[0;34m)\u001b[0m\u001b[0;34m)\u001b[0m\u001b[0;34m]\u001b[0m\u001b[0;34m\u001b[0m\u001b[0m\n\u001b[1;32m     39\u001b[0m \u001b[0;34m\u001b[0m\u001b[0m\n",
      "\u001b[0;31mTypeError\u001b[0m: string indices must be integers, not str"
     ],
     "output_type": "error"
    }
   ],
   "source": [
    "userItemRating = []\n",
    "\n",
    "predictions = open(\"Assignment1/HW3/assignment1/predictions_Rating.txt\", 'w')\n",
    "for l in open(\"Assignment1/HW3/assignment1/pairs_Rating.txt\"):\n",
    "    if l.startswith(\"userID\"):\n",
    "        #header\n",
    "        predictions.write(l)\n",
    "        continue\n",
    "    u, i = l.strip().split('-')\n",
    "    if u not in user_bias_final and i not in item_bias_final:\n",
    "        predicted_rating = alpha_final\n",
    "        if 'price' in l:\n",
    "            feat_row = [predicted_rating, words_num, l['price'], l['helpful']['outOf']]\n",
    "        else:\n",
    "            feat_row = [predicted_rating, words_num, 0, l['helpful']['outOf']]\n",
    "        predicted_rating = [theta_alpha[i]*feat_row[i] for i in range(0,len(feat_row))]\n",
    "    elif u not in user_bias_final:\n",
    "        predicted_rating = alpha_final + item_bias_final[i]\n",
    "        if 'price' in l:\n",
    "            feat_row = [predicted_rating, words_num, l['price'], l['helpful']['outOf']]\n",
    "        else:\n",
    "            feat_row = [predicted_rating, words_num, 0, l['helpful']['outOf']]\n",
    "        predicted_rating = [theta_item[i]*feat_row[i] for i in range(0,len(feat_row))]\n",
    "    elif i not in item_bias_final:\n",
    "        predicted_rating = alpha_final + user_bias_final[u]\n",
    "        if 'price' in l:\n",
    "            feat_row = [predicted_rating, words_num, l['price'], l['helpful']['outOf']]\n",
    "        else:\n",
    "            feat_row = [predicted_rating, words_num, 0, l['helpful']['outOf']]\n",
    "        predicted_rating = [theta_user[i]*feat_row[i] for i in range(0,len(feat_row))]\n",
    "    else:\n",
    "        #gamma_inner = sum([item_gamma_final[i][n]*user_gamma_final[u][n] for n in range(0,gamma_size)])\n",
    "        predicted_rating = alpha_final + user_bias_final[u] + item_bias_final[i]# + gamma_inner\n",
    "        if 'price' in l:\n",
    "            feat_row = [predicted_rating, words_num, l['price'], l['helpful']['outOf']]\n",
    "        else:\n",
    "            feat_row = [predicted_rating, words_num, 0, l['helpful']['outOf']]\n",
    "        predicted_rating = [theta[i]*feat_row[i] for i in range(0,len(feat_row))]\n",
    "        \n",
    "    if predicted_rating > 5.0:\n",
    "        predictions.write(u + '-' + i + ',' + str(5.0) + '\\n')\n",
    "    else:\n",
    "        predictions.write(u + '-' + i + ',' + str(predicted_rating) + '\\n')\n",
    "            \n",
    "predictions.close()"
   ]
  },
  {
   "cell_type": "code",
   "execution_count": null,
   "metadata": {},
   "outputs": [],
   "source": [
    ""
   ]
  }
 ],
 "metadata": {
  "kernelspec": {
   "display_name": "Python 2",
   "language": "python",
   "name": "python2"
  },
  "language_info": {
   "codemirror_mode": {
    "name": "ipython",
    "version": 2.0
   },
   "file_extension": ".py",
   "mimetype": "text/x-python",
   "name": "python",
   "nbconvert_exporter": "python",
   "pygments_lexer": "ipython2",
   "version": "2.7.6"
  }
 },
 "nbformat": 4,
 "nbformat_minor": 0
}